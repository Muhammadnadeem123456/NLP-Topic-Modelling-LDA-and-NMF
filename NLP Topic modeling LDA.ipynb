{
 "cells": [
  {
   "cell_type": "code",
   "execution_count": 3,
   "id": "6a62149a-2c31-4a14-bb53-f13af0d31146",
   "metadata": {},
   "outputs": [],
   "source": [
    "import pandas as pd\n",
    "from sklearn.feature_extraction.text import TfidfVectorizer\n",
    "from sklearn.decomposition import LatentDirichletAllocation\n",
    "import spacy\n",
    "nlp=spacy.load(\"en_core_web_sm\")\n",
    "\n",
    "\n",
    "# sample manual document\n",
    "doc =[\n",
    "    \"Hockey, the thrilling game of speed and skill, unites fans with its electrifying goals and fierce competition. From icy rinks to roaring arenas, it’s a sport of pure adrenaline!\",\n",
    "    \"Cricket, the gentleman's game, blends strategy and skill in every swing of the bat. From thrilling chases to stunning wickets, it unites fans worldwide.\"\n",
    "]"
   ]
  },
  {
   "cell_type": "code",
   "execution_count": 7,
   "id": "06256d86-d941-46c0-aa79-fc1ccc6c534b",
   "metadata": {},
   "outputs": [
    {
     "data": {
      "text/html": [
       "<div>\n",
       "<style scoped>\n",
       "    .dataframe tbody tr th:only-of-type {\n",
       "        vertical-align: middle;\n",
       "    }\n",
       "\n",
       "    .dataframe tbody tr th {\n",
       "        vertical-align: top;\n",
       "    }\n",
       "\n",
       "    .dataframe thead th {\n",
       "        text-align: right;\n",
       "    }\n",
       "</style>\n",
       "<table border=\"1\" class=\"dataframe\">\n",
       "  <thead>\n",
       "    <tr style=\"text-align: right;\">\n",
       "      <th></th>\n",
       "      <th>text</th>\n",
       "    </tr>\n",
       "  </thead>\n",
       "  <tbody>\n",
       "    <tr>\n",
       "      <th>0</th>\n",
       "      <td>Hockey, the thrilling game of speed and skill, unites fans with its electrifying goals and fierc...</td>\n",
       "    </tr>\n",
       "    <tr>\n",
       "      <th>1</th>\n",
       "      <td>Cricket, the gentleman's game, blends strategy and skill in every swing of the bat. From thrilli...</td>\n",
       "    </tr>\n",
       "  </tbody>\n",
       "</table>\n",
       "</div>"
      ],
      "text/plain": [
       "                                                                                                  text\n",
       "0  Hockey, the thrilling game of speed and skill, unites fans with its electrifying goals and fierc...\n",
       "1  Cricket, the gentleman's game, blends strategy and skill in every swing of the bat. From thrilli..."
      ]
     },
     "execution_count": 7,
     "metadata": {},
     "output_type": "execute_result"
    }
   ],
   "source": [
    "#create a dataframe to hold the manual document\n",
    "pd.set_option('display.max_colwidth',100)\n",
    "data=pd.DataFrame({'text':doc})\n",
    "data"
   ]
  },
  {
   "cell_type": "code",
   "execution_count": 12,
   "id": "77ea6c22-ab4c-44ff-bd64-6ee47c77e8a8",
   "metadata": {},
   "outputs": [],
   "source": [
    "def preprocessing(text):\n",
    "    doc = nlp(text)\n",
    "    # Remove stopwords and keep only alphabetic tokens, then lemmatize\n",
    "    preprocess_token = [token.lemma_ for token in doc if not token.is_stop and token.is_alpha]\n",
    "    return ' '.join(preprocess_token)"
   ]
  },
  {
   "cell_type": "code",
   "execution_count": 13,
   "id": "8622990b-c2d5-4d6d-81f8-0808be5e3b80",
   "metadata": {},
   "outputs": [
    {
     "data": {
      "text/html": [
       "<div>\n",
       "<style scoped>\n",
       "    .dataframe tbody tr th:only-of-type {\n",
       "        vertical-align: middle;\n",
       "    }\n",
       "\n",
       "    .dataframe tbody tr th {\n",
       "        vertical-align: top;\n",
       "    }\n",
       "\n",
       "    .dataframe thead th {\n",
       "        text-align: right;\n",
       "    }\n",
       "</style>\n",
       "<table border=\"1\" class=\"dataframe\">\n",
       "  <thead>\n",
       "    <tr style=\"text-align: right;\">\n",
       "      <th></th>\n",
       "      <th>text</th>\n",
       "      <th>preprocess_text</th>\n",
       "    </tr>\n",
       "  </thead>\n",
       "  <tbody>\n",
       "    <tr>\n",
       "      <th>0</th>\n",
       "      <td>Hockey, the thrilling game of speed and skill, unites fans with its electrifying goals and fierc...</td>\n",
       "      <td>Hockey thrilling game speed skill unite fan electrify goal fierce competition icy rink roar aren...</td>\n",
       "    </tr>\n",
       "    <tr>\n",
       "      <th>1</th>\n",
       "      <td>Cricket, the gentleman's game, blends strategy and skill in every swing of the bat. From thrilli...</td>\n",
       "      <td>Cricket gentleman game blend strategy skill swing bat thrill chase stunning wicket unite fan wor...</td>\n",
       "    </tr>\n",
       "  </tbody>\n",
       "</table>\n",
       "</div>"
      ],
      "text/plain": [
       "                                                                                                  text  \\\n",
       "0  Hockey, the thrilling game of speed and skill, unites fans with its electrifying goals and fierc...   \n",
       "1  Cricket, the gentleman's game, blends strategy and skill in every swing of the bat. From thrilli...   \n",
       "\n",
       "                                                                                       preprocess_text  \n",
       "0  Hockey thrilling game speed skill unite fan electrify goal fierce competition icy rink roar aren...  \n",
       "1  Cricket gentleman game blend strategy skill swing bat thrill chase stunning wicket unite fan wor...  "
      ]
     },
     "execution_count": 13,
     "metadata": {},
     "output_type": "execute_result"
    }
   ],
   "source": [
    "data[\"preprocess_text\"]=data[\"text\"].apply(preprocessing)\n",
    "data"
   ]
  },
  {
   "cell_type": "markdown",
   "id": "21040e25-e980-495e-8c5a-a895d368681b",
   "metadata": {},
   "source": [
    "# Create TF-IDF Vectorizer and fit the model"
   ]
  },
  {
   "cell_type": "code",
   "execution_count": 21,
   "id": "891ea1fe-8018-4088-9437-54e4f468f2b9",
   "metadata": {},
   "outputs": [
    {
     "name": "stdout",
     "output_type": "stream",
     "text": [
      "[[0.74349176 0.74349176 0.50653084 0.50653084 0.50653084 0.74349176\n",
      "  0.50653084 0.74349176 0.67764657 0.74349176 0.67764657 0.50653084\n",
      "  0.74349176 0.74349176 0.74349176 0.74349176 0.74349176 0.74349176\n",
      "  0.67764657 0.74349176 0.74349176 0.50653084 0.50653084 0.50653084\n",
      "  0.50653084 0.74349176 0.67764657 0.50653084 0.50653084]\n",
      " [0.50631335 0.50631335 0.77055322 0.77055322 0.77055322 0.50631335\n",
      "  0.77055322 0.50631335 0.69723941 0.50631335 0.69723941 0.77055322\n",
      "  0.50631335 0.50631335 0.50631335 0.50631335 0.50631335 0.50631335\n",
      "  0.69723941 0.50631335 0.50631335 0.77055322 0.77055322 0.77055322\n",
      "  0.77055322 0.50631335 0.69723941 0.77055322 0.77055322]]\n"
     ]
    }
   ],
   "source": [
    "#Create tf-idf vectorizer\n",
    "vector=TfidfVectorizer()\n",
    "\n",
    "#transform the manusl doc to tf-idf doc\n",
    "X=vector.fit_transform(data[\"preprocess_text\"])\n",
    "\n",
    "#create latent dirichlet allocation model\n",
    "lda=LatentDirichletAllocation(n_components=2)\n",
    "\n",
    "# fit the model to the tf-idf\n",
    "lda.fit(X)\n",
    "\n",
    "\n",
    "#print the topics\n",
    "\n",
    "print(lda.components_)"
   ]
  },
  {
   "cell_type": "markdown",
   "id": "6074d148-45cc-491b-b750-584bd36e5d78",
   "metadata": {},
   "source": [
    "# print the topics and their  associated word"
   ]
  },
  {
   "cell_type": "code",
   "execution_count": 27,
   "id": "0bcba433-c1a1-4269-881a-69fe94db5dc5",
   "metadata": {},
   "outputs": [
    {
     "name": "stdout",
     "output_type": "stream",
     "text": [
      "Topic 1\n",
      "adrenaline, competition, roar, thrilling, rink\n",
      "Topic 2\n",
      "strategy, gentleman, swing, stunning, bat\n"
     ]
    }
   ],
   "source": [
    "# for idx, topic in enumerate(lda.components_):\n",
    "#     print(f\"Topic {idx+1}\")\n",
    "#     #get the top 5 words with highest weights for this topic\n",
    "#     top_words_idx=topic.argsort()[-:5][-::1]\n",
    "#     top_word=[vector.get_feature_names_out()[i] for i in top_words_idx]\n",
    "#     print(\", \".join(top_word))\n",
    "#     print()\n",
    "for idx, topic in enumerate(lda.components_):\n",
    "    print(f\"Topic {idx + 1}\")\n",
    "    # Get the top 5 words with the highest weights for this topic\n",
    "    top_words_idx = topic.argsort()[-5:][::-1]  # Correct slicing and reverse for descending order\n",
    "    top_words = [vector.get_feature_names_out()[i] for i in top_words_idx]\n",
    "    print(\", \".join(top_words))"
   ]
  },
  {
   "cell_type": "code",
   "execution_count": null,
   "id": "0b7d8374-e907-4908-be23-67c82975f0c5",
   "metadata": {},
   "outputs": [],
   "source": []
  }
 ],
 "metadata": {
  "kernelspec": {
   "display_name": "Python 3 (ipykernel)",
   "language": "python",
   "name": "python3"
  },
  "language_info": {
   "codemirror_mode": {
    "name": "ipython",
    "version": 3
   },
   "file_extension": ".py",
   "mimetype": "text/x-python",
   "name": "python",
   "nbconvert_exporter": "python",
   "pygments_lexer": "ipython3",
   "version": "3.12.5"
  }
 },
 "nbformat": 4,
 "nbformat_minor": 5
}

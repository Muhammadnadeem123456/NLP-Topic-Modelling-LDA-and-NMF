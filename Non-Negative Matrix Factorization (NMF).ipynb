{
 "cells": [
  {
   "cell_type": "code",
   "execution_count": 3,
   "id": "6ff96398-c7c4-4cdf-804d-e3ff22f1e2c5",
   "metadata": {},
   "outputs": [],
   "source": [
    "from sklearn.feature_extraction.text import TfidfVectorizer\n",
    "from sklearn.decomposition import NMF\n",
    "\n",
    "# Example text documents\n",
    "doc =[\n",
    "    \"Hockey, the thrilling game of speed and skill, unites fans with its electrifying goals and fierce competition. From icy rinks to roaring arenas, it’s a sport of pure adrenaline!\",\n",
    "    \"Cricket, the gentleman's game, blends strategy and skill in every swing of the bat. From thrilling chases to stunning wickets, it unites fans worldwide.\"\n",
    "]\n",
    "\n",
    "# Step 1: Create a TfidfVectorizer instance\n",
    "vectorizer = TfidfVectorizer(stop_words='english')\n",
    "X = vectorizer.fit_transform(doc)  # Transform documents into a TF-IDF matrix\n",
    "\n",
    "# Step 2: Create an NMF model\n",
    "n_topics = 2  # Number of topics to extract\n",
    "nmf = NMF(n_components=n_topics, random_state=42, max_iter=1000)\n",
    "\n",
    "# Step 3: Fit the NMF model\n",
    "W = nmf.fit_transform(X)  # Document-topic matrix\n",
    "H = nmf.components_       # Topic-term matrix\n",
    "\n",
    "# Step 4: Get the top words for each topic\n",
    "feature_names = vectorizer.get_feature_names_out()"
   ]
  },
  {
   "cell_type": "code",
   "execution_count": 4,
   "id": "a6a72c0e-d89b-4b39-ab3e-5152bd302146",
   "metadata": {},
   "outputs": [
    {
     "name": "stdout",
     "output_type": "stream",
     "text": [
      "Topic 1:\n",
      "worldwide, wickets, stunning, swing, strategy\n",
      "Topic 2:\n",
      "speed, roaring, rinks, sport, electrifying\n"
     ]
    }
   ],
   "source": [
    "for idx, topic in enumerate(H):\n",
    "    print(f\"Topic {idx + 1}:\")\n",
    "    top_words_idx = topic.argsort()[-5:][::-1]  # Get top 5 words (largest weights)\n",
    "    top_words = [feature_names[i] for i in top_words_idx]\n",
    "    print(\", \".join(top_words))"
   ]
  }
 ],
 "metadata": {
  "kernelspec": {
   "display_name": "Python 3 (ipykernel)",
   "language": "python",
   "name": "python3"
  },
  "language_info": {
   "codemirror_mode": {
    "name": "ipython",
    "version": 3
   },
   "file_extension": ".py",
   "mimetype": "text/x-python",
   "name": "python",
   "nbconvert_exporter": "python",
   "pygments_lexer": "ipython3",
   "version": "3.12.5"
  }
 },
 "nbformat": 4,
 "nbformat_minor": 5
}
